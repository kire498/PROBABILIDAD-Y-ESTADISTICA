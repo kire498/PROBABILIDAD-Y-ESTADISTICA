{
  "nbformat": 4,
  "nbformat_minor": 0,
  "metadata": {
    "colab": {
      "provenance": []
    },
    "kernelspec": {
      "name": "python3",
      "display_name": "Python 3"
    },
    "language_info": {
      "name": "python"
    }
  },
  "cells": [
    {
      "cell_type": "code",
      "execution_count": 1,
      "metadata": {
        "id": "G7ZgcrtfwymH"
      },
      "outputs": [],
      "source": [
        "\n",
        "import numpy as np\n",
        "from scipy.stats import binom"
      ]
    },
    {
      "cell_type": "code",
      "source": [
        "#parametros\n",
        "n=3 #numero de valores\n",
        "p=0.5#probabilidad de obtener solen cada volado (exito)"
      ],
      "metadata": {
        "id": "QNRXlFbJw2yN"
      },
      "execution_count": 2,
      "outputs": []
    },
    {
      "cell_type": "code",
      "source": [
        "#valores de x\n",
        "x_values=[0,1,2,3]"
      ],
      "metadata": {
        "id": "gHs5PyN0w6s-"
      },
      "execution_count": 3,
      "outputs": []
    },
    {
      "cell_type": "code",
      "source": [
        "#calcular la PMF (Función de Masa De Probailidad) para cada una\n",
        "pmf_values=binom.pmf(x_values,n,p)\n",
        ""
      ],
      "metadata": {
        "id": "oLMEeJaow8jq"
      },
      "execution_count": 4,
      "outputs": []
    },
    {
      "cell_type": "code",
      "source": [
        "for x, pmf in zip(x_values,pmf_values):\n",
        "    print(f\"P(X={x})={pmf:.3f}\")"
      ],
      "metadata": {
        "colab": {
          "base_uri": "https://localhost:8080/"
        },
        "id": "yHH1NtVlw_T9",
        "outputId": "b9dcd50b-1266-4dfe-9535-aafd57270f5f"
      },
      "execution_count": 5,
      "outputs": [
        {
          "output_type": "stream",
          "name": "stdout",
          "text": [
            "P(X=0)=0.125\n",
            "P(X=1)=0.375\n",
            "P(X=2)=0.375\n",
            "P(X=3)=0.125\n"
          ]
        }
      ]
    }
  ]
}