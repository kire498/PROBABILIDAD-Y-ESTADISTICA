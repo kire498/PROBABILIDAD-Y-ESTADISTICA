{
  "nbformat": 4,
  "nbformat_minor": 0,
  "metadata": {
    "colab": {
      "provenance": [],
      "authorship_tag": "ABX9TyPM0lHLZH2ADmnByxlgfUSW",
      "include_colab_link": true
    },
    "kernelspec": {
      "name": "python3",
      "display_name": "Python 3"
    },
    "language_info": {
      "name": "python"
    }
  },
  "cells": [
    {
      "cell_type": "markdown",
      "metadata": {
        "id": "view-in-github",
        "colab_type": "text"
      },
      "source": [
        "<a href=\"https://colab.research.google.com/github/kire498/PROBABILIDAD-Y-ESTADISTICA/blob/main/Untitled1.ipynb\" target=\"_parent\"><img src=\"https://colab.research.google.com/assets/colab-badge.svg\" alt=\"Open In Colab\"/></a>"
      ]
    },
    {
      "cell_type": "markdown",
      "source": [
        "## **UNIDAD 1**\n",
        "\n",
        "### Practica 1 y 2: Estadistica descriptiva basica e Historamas.\n",
        "\n",
        "Facilitador:Dr. Jose Gabriel Rodriguez Rivas.\n",
        "\n",
        "Alummo: Erik Manuel Vizcarra Segovia\n",
        "\n",
        "## **Importar la librería statistics**"
      ],
      "metadata": {
        "id": "cjCDa24SPFp7"
      }
    },
    {
      "cell_type": "code",
      "execution_count": 1,
      "metadata": {
        "id": "O1Fsar5NMvZe"
      },
      "outputs": [],
      "source": [
        "from statistics import *"
      ]
    },
    {
      "cell_type": "markdown",
      "source": [
        "## **Ejemplo 1: Registro de calificaciones de 12 alumnos**"
      ],
      "metadata": {
        "id": "tEGq-OStPpUj"
      }
    },
    {
      "cell_type": "code",
      "source": [
        "# Lista de calificaciones del grupo a de probabilidad y estadística\n",
        "\n",
        "grupoa = [70, 70, 65, 90, 100, 95, 45, 80, 73, 20, 100, 96]\n",
        "print(grupoa)"
      ],
      "metadata": {
        "colab": {
          "base_uri": "https://localhost:8080/"
        },
        "id": "Bra0LIAtMx11",
        "outputId": "6682c554-c839-49ef-b304-8332a646b2d4"
      },
      "execution_count": 2,
      "outputs": [
        {
          "output_type": "stream",
          "name": "stdout",
          "text": [
            "[70, 70, 65, 90, 100, 95, 45, 80, 73, 20, 100, 96]\n"
          ]
        }
      ]
    },
    {
      "cell_type": "code",
      "source": [
        "# la función type nos devuelve el tipo de dato de la variable\n",
        "type(grupoa)"
      ],
      "metadata": {
        "colab": {
          "base_uri": "https://localhost:8080/"
        },
        "id": "I3HuMcvEMx6C",
        "outputId": "f2efa4f6-4102-461f-e973-e04105b9c7b1"
      },
      "execution_count": 3,
      "outputs": [
        {
          "output_type": "execute_result",
          "data": {
            "text/plain": [
              "list"
            ]
          },
          "metadata": {},
          "execution_count": 3
        }
      ]
    },
    {
      "cell_type": "markdown",
      "source": [
        "## **Determinar la media del ejemplo 1**"
      ],
      "metadata": {
        "id": "J1tFYOegPuIl"
      }
    },
    {
      "cell_type": "code",
      "source": [
        "# Sacar la media de las calificaciones con una fórmula\n",
        "# La función len, me regresa la longitud de la lista\n",
        "\n",
        "promedio = sum(grupoa) / len(grupoa)\n",
        "print(promedio)"
      ],
      "metadata": {
        "colab": {
          "base_uri": "https://localhost:8080/"
        },
        "id": "3snUu61FMx9v",
        "outputId": "cb93c3b7-e3e6-4920-9ad9-9c4bd60bd47e"
      },
      "execution_count": 4,
      "outputs": [
        {
          "output_type": "stream",
          "name": "stdout",
          "text": [
            "75.33333333333333\n"
          ]
        }
      ]
    },
    {
      "cell_type": "code",
      "source": [
        "# Utilizar la funcion mean que esta en la librería statistics para sacar\n",
        "# el promedio\n",
        "\n",
        "promedio2 = mean(grupoa)\n",
        "print(promedio2)\n",
        ""
      ],
      "metadata": {
        "colab": {
          "base_uri": "https://localhost:8080/"
        },
        "id": "yV7sqwwRMyBE",
        "outputId": "3d798520-c612-4ad6-f568-66507992edaf"
      },
      "execution_count": 5,
      "outputs": [
        {
          "output_type": "stream",
          "name": "stdout",
          "text": [
            "75.33333333333333\n"
          ]
        }
      ]
    },
    {
      "cell_type": "markdown",
      "source": [
        "## **Determinar la mediana del ejemplo 1**"
      ],
      "metadata": {
        "id": "1cA2aOEQPxiZ"
      }
    },
    {
      "cell_type": "code",
      "source": [
        "# Determinar el valor de la mediana con la funcion median\n",
        "\n",
        "mediana = median(grupoa)\n",
        "print(mediana)"
      ],
      "metadata": {
        "colab": {
          "base_uri": "https://localhost:8080/"
        },
        "id": "O77JrAR0MyHV",
        "outputId": "a5c90f65-765e-4828-b8d6-2bfbcc804b4c"
      },
      "execution_count": 6,
      "outputs": [
        {
          "output_type": "stream",
          "name": "stdout",
          "text": [
            "76.5\n"
          ]
        }
      ]
    },
    {
      "cell_type": "markdown",
      "source": [
        "## **Determinar la moda del ejemplo 1**"
      ],
      "metadata": {
        "id": "AsepLXoQP1-A"
      }
    },
    {
      "cell_type": "code",
      "source": [
        "# Determinar el valor de la moda con la funcion mode\n",
        "\n",
        "moda = mode(grupoa)\n",
        "print(moda)"
      ],
      "metadata": {
        "colab": {
          "base_uri": "https://localhost:8080/"
        },
        "id": "gNV00iOPMyK0",
        "outputId": "2c2ca6e9-22b6-427a-801b-16424e5d7c6d"
      },
      "execution_count": 7,
      "outputs": [
        {
          "output_type": "stream",
          "name": "stdout",
          "text": [
            "70\n"
          ]
        }
      ]
    },
    {
      "cell_type": "code",
      "source": [
        "# En caso de que allá mas de una moda usar la funcion multimode\n",
        "\n",
        "moda2 = multimode(grupoa)\n",
        "print(moda2)"
      ],
      "metadata": {
        "colab": {
          "base_uri": "https://localhost:8080/"
        },
        "id": "893RmyQkMyN8",
        "outputId": "2eff9f57-0643-4db6-869b-fe677893681c"
      },
      "execution_count": 8,
      "outputs": [
        {
          "output_type": "stream",
          "name": "stdout",
          "text": [
            "[70, 100]\n"
          ]
        }
      ]
    },
    {
      "cell_type": "markdown",
      "source": [
        "## **Ejemplo 2. Tiempos de 100 metros de un grupo de 12 alumnos**"
      ],
      "metadata": {
        "id": "0vzV4a-oP60_"
      }
    },
    {
      "cell_type": "code",
      "source": [
        "# Definimos una variable llamada tiempos100mts de tipo lista, que contiene los\n",
        "# tiempos que tardan los 10 alumnos para correr los 100 metros\n",
        "\n",
        "tiempos100mts = [15.10, 17.20, 14.69, 13.27, 22.15, 18.71, 19.15, 20.65, 15.10, 17.20]\n",
        "\n",
        "# Desplegamos los valores de la lista\n",
        "\n",
        "print(tiempos100mts)"
      ],
      "metadata": {
        "colab": {
          "base_uri": "https://localhost:8080/"
        },
        "id": "NgQ5CZa1NZIO",
        "outputId": "7a9d1a4f-57a0-405e-91bb-439bb27280a4"
      },
      "execution_count": 9,
      "outputs": [
        {
          "output_type": "stream",
          "name": "stdout",
          "text": [
            "[15.1, 17.2, 14.69, 13.27, 22.15, 18.71, 19.15, 20.65, 15.1, 17.2]\n"
          ]
        }
      ]
    },
    {
      "cell_type": "markdown",
      "source": [
        "## **Funcion mean para calcular el promedio**"
      ],
      "metadata": {
        "id": "L0RB1iCBQZjo"
      }
    },
    {
      "cell_type": "code",
      "source": [
        "# Usamos la funcion mean para determinar el tiempo promedio de la lista de valores\n",
        "\n",
        "print(\"El tiempo promedio de los corredores es=>\", mean(tiempos100mts) )"
      ],
      "metadata": {
        "colab": {
          "base_uri": "https://localhost:8080/"
        },
        "id": "UgP7hvC1NZLS",
        "outputId": "9ddb24b5-65b6-42c8-bd7e-91ab52e68172"
      },
      "execution_count": 10,
      "outputs": [
        {
          "output_type": "stream",
          "name": "stdout",
          "text": [
            "El tiempo promedio de los corredores es=> 17.322\n"
          ]
        }
      ]
    },
    {
      "cell_type": "markdown",
      "source": [
        "## **Funcion median para calcular la mediana**"
      ],
      "metadata": {
        "id": "udI36hYTQdmI"
      }
    },
    {
      "cell_type": "code",
      "source": [
        "# Usamos la funcion median para determinar el tiempo promedio de la lista de valores\n",
        "\n",
        "# definimos una variable llamada mediana para calcular la mediana de la lista con la funcion\n",
        "# median\n",
        "\n",
        "mediana = median(tiempos100mts)\n",
        "print(\"la media de los tiempos de los corredores es=>\", mediana )"
      ],
      "metadata": {
        "colab": {
          "base_uri": "https://localhost:8080/"
        },
        "id": "b_kpx0rxNZOj",
        "outputId": "2f0d0761-e63c-43da-df6a-b313a781f94f"
      },
      "execution_count": 11,
      "outputs": [
        {
          "output_type": "stream",
          "name": "stdout",
          "text": [
            "la media de los tiempos de los corredores es=> 17.2\n"
          ]
        }
      ]
    },
    {
      "cell_type": "markdown",
      "source": [
        "## **Funcion mode para calcular la moda**"
      ],
      "metadata": {
        "id": "tSAaP0moQiXb"
      }
    },
    {
      "cell_type": "code",
      "source": [
        "# Definimos una variable llamada moda para calcular la moda de la lista con la funcion\n",
        "# mode\n",
        "\n",
        "moda = mode(tiempos100mts)\n",
        "print(\"La moda de los tiempos es=>\", moda)"
      ],
      "metadata": {
        "colab": {
          "base_uri": "https://localhost:8080/"
        },
        "id": "o9p0LEepNZRr",
        "outputId": "2bd8addc-2c94-412d-931a-32fa11abdf68"
      },
      "execution_count": 12,
      "outputs": [
        {
          "output_type": "stream",
          "name": "stdout",
          "text": [
            "La moda de los tiempos es=> 15.1\n"
          ]
        }
      ]
    },
    {
      "cell_type": "markdown",
      "source": [
        "## **Funcion multimode para calcular múltiples modas**"
      ],
      "metadata": {
        "id": "oOKSS-p8QnHX"
      }
    },
    {
      "cell_type": "code",
      "source": [
        "multimodas = multimode(tiempos100mts)\n",
        "print(\"La moda de los tiempos es=>\", multimodas)"
      ],
      "metadata": {
        "colab": {
          "base_uri": "https://localhost:8080/"
        },
        "id": "xDdW_hyTNZU6",
        "outputId": "c774a5a8-aa45-4b55-8779-88bca0cf7eea"
      },
      "execution_count": 16,
      "outputs": [
        {
          "output_type": "stream",
          "name": "stdout",
          "text": [
            "La moda de los tiempos es=> [15.1, 17.2]\n"
          ]
        }
      ]
    },
    {
      "cell_type": "markdown",
      "source": [
        "## **Ejemplo 3: Histogramas de 2 grupos**"
      ],
      "metadata": {
        "id": "NKDyzRUKQq44"
      }
    },
    {
      "cell_type": "code",
      "source": [
        "# Librería para generar numeros aleatorios\n",
        "import random"
      ],
      "metadata": {
        "id": "8HFQBScAODq3"
      },
      "execution_count": 14,
      "outputs": []
    },
    {
      "cell_type": "code",
      "source": [
        "fabrica1 = []\n",
        "for i in range(100):\n",
        "    numero_aleatorio = round(random.uniform(50, 100), 2)\n",
        "    fabrica1.append(numero_aleatorio)\n",
        "print(fabrica1)"
      ],
      "metadata": {
        "colab": {
          "base_uri": "https://localhost:8080/"
        },
        "id": "J2ykUFw3ODzd",
        "outputId": "1b5cfcca-043d-496b-afa2-1896898ff1bc"
      },
      "execution_count": 17,
      "outputs": [
        {
          "output_type": "stream",
          "name": "stdout",
          "text": [
            "[62.98, 61.54, 64.26, 93.33, 84.56, 65.03, 80.4, 60.88, 50.66, 78.69, 93.92, 53.13, 95.75, 69.12, 88.18, 71.75, 58.98, 92.26, 68.73, 72.86, 71.75, 82.56, 77.02, 55.39, 80.41, 64.75, 95.96, 82.57, 58.8, 58.79, 59.51, 56.92, 53.29, 79.09, 57.48, 85.58, 93.34, 82.91, 80.25, 68.69, 69.94, 96.32, 73.54, 87.99, 58.94, 52.1, 65.05, 78.35, 80.71, 57.28, 82.71, 52.08, 69.55, 78.44, 94.7, 52.6, 86.76, 83.01, 69.55, 78.89, 65.88, 75.94, 65.92, 76.29, 68.68, 87.69, 68.08, 91.14, 64.85, 89.65, 86.12, 74.92, 89.84, 54.03, 71.32, 73.36, 69.11, 86.18, 69.09, 90.45, 58.18, 89.5, 92.4, 73.17, 93.86, 82.03, 52.5, 51.63, 58.08, 66.9, 68.16, 65.84, 96.83, 83.29, 79.02, 61.37, 72.08, 92.68, 52.1, 86.27]\n"
          ]
        }
      ]
    },
    {
      "cell_type": "code",
      "source": [
        "fabrica2 = []\n",
        "for i in range(100):\n",
        "    numero_aleatorio2 = round( random.uniform(50, 100), 2)\n",
        "    fabrica2.append(numero_aleatorio2)\n",
        "print(fabrica2)"
      ],
      "metadata": {
        "colab": {
          "base_uri": "https://localhost:8080/"
        },
        "id": "5kOp0TZlNZeF",
        "outputId": "da77652e-1cdc-436e-de68-8bd9ece4c739"
      },
      "execution_count": 18,
      "outputs": [
        {
          "output_type": "stream",
          "name": "stdout",
          "text": [
            "[66.93, 94.75, 83.21, 93.76, 56.33, 54.39, 78.28, 85.76, 86.4, 67.87, 93.49, 75.59, 64.81, 76.56, 59.57, 75.86, 64.01, 71.42, 51.86, 84.59, 90.68, 99.89, 56.02, 84.71, 97.92, 68.69, 68.88, 82.69, 68.05, 92.74, 81.26, 70.59, 98.38, 99.35, 76.1, 78.32, 79.26, 63.43, 61.11, 87.82, 87.41, 91.02, 88.57, 63.62, 98.77, 54.46, 69.94, 95.25, 85.52, 97.36, 90.51, 67.05, 71.63, 83.14, 85.8, 53.23, 61.01, 88.12, 71.7, 68.72, 71.04, 64.24, 71.19, 80.67, 90.12, 79.9, 66.42, 61.19, 77.65, 68.4, 58.0, 51.05, 57.61, 94.89, 75.67, 78.14, 98.01, 96.26, 94.36, 90.91, 89.22, 52.88, 88.02, 72.37, 61.9, 73.92, 51.04, 92.73, 72.97, 54.58, 77.86, 72.16, 90.76, 99.4, 97.88, 78.32, 62.46, 51.7, 95.01, 63.6]\n"
          ]
        }
      ]
    },
    {
      "cell_type": "code",
      "source": [
        "# librería de python para graficar valores\n",
        "import matplotlib.pyplot as plt"
      ],
      "metadata": {
        "id": "RYO53WQ3OYPN"
      },
      "execution_count": 19,
      "outputs": []
    },
    {
      "cell_type": "code",
      "source": [
        "plt.hist(fabrica1)\n",
        "plt.title(\"Producción diaria de la fábrica 1\")"
      ],
      "metadata": {
        "colab": {
          "base_uri": "https://localhost:8080/",
          "height": 469
        },
        "id": "4UYF8P1bOYX4",
        "outputId": "956ed554-57aa-45ce-f260-fbd8dbdfd6c8"
      },
      "execution_count": 22,
      "outputs": [
        {
          "output_type": "execute_result",
          "data": {
            "text/plain": [
              "Text(0.5, 1.0, 'Producción diaria de la fábrica 1')"
            ]
          },
          "metadata": {},
          "execution_count": 22
        },
        {
          "output_type": "display_data",
          "data": {
            "text/plain": [
              "<Figure size 640x480 with 1 Axes>"
            ],
            "image/png": "[encoded data removed]"
          },
          "metadata": {}
        }
      ]
    },
    {
      "cell_type": "code",
      "source": [
        "plt.hist(fabrica2)\n",
        "plt.title(\"Producción diaria de la fábrica 2\")"
      ],
      "metadata": {
        "colab": {
          "base_uri": "https://localhost:8080/",
          "height": 469
        },
        "id": "zqBySm9kOYbd",
        "outputId": "e66d62b1-db35-4f0f-dcb3-082a027d1859"
      },
      "execution_count": 23,
      "outputs": [
        {
          "output_type": "execute_result",
          "data": {
            "text/plain": [
              "Text(0.5, 1.0, 'Producción diaria de la fábrica 2')"
            ]
          },
          "metadata": {},
          "execution_count": 23
        },
        {
          "output_type": "display_data",
          "data": {
            "text/plain": [
              "<Figure size 640x480 with 1 Axes>"
            ],
            "image/png": "[encoded data removed]"
          },
          "metadata": {}
        }
      ]
    },
    {
      "cell_type": "code",
      "source": [
        "media1 = mean(fabrica1)\n",
        "mediana1 = median(fabrica1)\n",
        "moda1 = mode(fabrica1)\n",
        "\n",
        "print(\"Valores de la fabrica 1\")\n",
        "print(\"La media es=\", media1)\n",
        "print(\"La mediana es=\", mediana1)\n",
        "print(\"La moda es=\", moda1)"
      ],
      "metadata": {
        "colab": {
          "base_uri": "https://localhost:8080/"
        },
        "id": "buUnOTtJOYe9",
        "outputId": "d7084997-e9bb-4971-b741-7111609390ac"
      },
      "execution_count": 24,
      "outputs": [
        {
          "output_type": "stream",
          "name": "stdout",
          "text": [
            "Valores de la fabrica 1\n",
            "La media es= 73.7501\n",
            "La mediana es= 73.015\n",
            "La moda es= 71.75\n"
          ]
        }
      ]
    },
    {
      "cell_type": "code",
      "source": [
        "media2 = mean(fabrica2)\n",
        "mediana2 = median(fabrica2)\n",
        "moda2 = mode(fabrica2)\n",
        "\n",
        "print(\"Valores de la fabrica 2\")\n",
        "print(\"La media es=\", media2)\n",
        "print(\"La mediana es=\", mediana2)\n",
        "print(\"La moda es=\", moda2)"
      ],
      "metadata": {
        "colab": {
          "base_uri": "https://localhost:8080/"
        },
        "id": "bOAolxoeOYj5",
        "outputId": "45266dbf-5a3a-46fc-c5a5-a9b39ba33a47"
      },
      "execution_count": 25,
      "outputs": [
        {
          "output_type": "stream",
          "name": "stdout",
          "text": [
            "Valores de la fabrica 2\n",
            "La media es= 76.8866\n",
            "La mediana es= 77.105\n",
            "La moda es= 78.32\n"
          ]
        }
      ]
    },
    {
      "cell_type": "code",
      "source": [
        "# Generar 2 subplot de 1 renglón por 2 columnas para desplegar los 2 histogramas,\n",
        "# una al lado de la otra\n",
        "\n",
        "fig, (ax1, ax2) = plt.subplots(nrows =1, ncols=2, figsize=(10, 5))\n",
        "ax1.hist(fabrica1)\n",
        "ax2.hist(fabrica2)\n",
        "plt.show()"
      ],
      "metadata": {
        "colab": {
          "base_uri": "https://localhost:8080/",
          "height": 445
        },
        "id": "MPBwUlm5O30R",
        "outputId": "d93477f8-d270-4681-f768-8782d4c01678"
      },
      "execution_count": 26,
      "outputs": [
        {
          "output_type": "display_data",
          "data": {
            "text/plain": [
              "<Figure size 1000x500 with 2 Axes>"
            ],
            "image/png": "[encoded data removed]"
          },
          "metadata": {}
        }
      ]
    },
    {
      "cell_type": "code",
      "source": [
        "plt.hist(fabrica1, bins=10, alpha=0.2, color='b', edgecolor = \"black\")\n",
        "plt.axvline(media1, color='b', linestyle='dashed', linewidth=2, label='Media')\n",
        "plt.axvline(mediana1, color='r', linestyle='dashed', linewidth=2, label='Mediana')\n",
        "plt.axvline(moda1, color='y', linestyle='dashed', linewidth=2, label='Moda')\n",
        "plt.xlabel('Valor')\n",
        "plt.ylabel('Frecuencia')\n",
        "plt.title(\"Producción diaria de la fabrica 1\")\n",
        "plt.legend()\n",
        "plt.show()"
      ],
      "metadata": {
        "colab": {
          "base_uri": "https://localhost:8080/",
          "height": 472
        },
        "id": "OTut5EzAO33M",
        "outputId": "7229d5a0-de9b-4e67-97c6-40c8a373a1a9"
      },
      "execution_count": 27,
      "outputs": [
        {
          "output_type": "display_data",
          "data": {
            "text/plain": [
              "<Figure size 640x480 with 1 Axes>"
            ],
            "image/png": "[encoded data removed]"
          },
          "metadata": {}
        }
      ]
    },
    {
      "cell_type": "code",
      "source": [
        "plt.hist(fabrica2, bins=10, alpha=0.2, color='b', edgecolor = \"black\")\n",
        "plt.axvline(media2, color='b', linestyle='dashed', linewidth=2, label='Media')\n",
        "plt.axvline(mediana2, color='r', linestyle='dashed', linewidth=2, label='Mediana')\n",
        "plt.axvline(moda2, color='y', linestyle='dashed', linewidth=2, label='Moda')\n",
        "plt.xlabel('Valor')\n",
        "plt.ylabel('Frecuencia')\n",
        "plt.title(\"Producción diaria de la fabrica 2\")\n",
        "plt.legend()\n",
        "plt.show()"
      ],
      "metadata": {
        "colab": {
          "base_uri": "https://localhost:8080/",
          "height": 472
        },
        "id": "koO0FhqgO35_",
        "outputId": "7ecb8514-f3aa-4574-c931-ff2ef7f4802e"
      },
      "execution_count": 28,
      "outputs": [
        {
          "output_type": "display_data",
          "data": {
            "text/plain": [
              "<Figure size 640x480 with 1 Axes>"
            ],
            "image/png": "[encoded data removed]"
          },
          "metadata": {}
        }
      ]
    }
  ]
}
