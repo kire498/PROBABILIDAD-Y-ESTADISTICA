{
  "nbformat": 4,
  "nbformat_minor": 0,
  "metadata": {
    "colab": {
      "provenance": []
    },
    "kernelspec": {
      "name": "python3",
      "display_name": "Python 3"
    },
    "language_info": {
      "name": "python"
    }
  },
  "cells": [
    {
      "cell_type": "markdown",
      "source": [
        "Probabilidad Y estadistica:Distribuciones\n",
        "\n",
        "Unidad 4\n",
        "\n",
        "Alumno Erik manuel vizcarra segovia\n",
        "\n",
        "Faciilitador Dr. Jose Gabriel Rodrigues Rivas\n",
        "\n",
        "Practica 3: Problemas de Distribución binomial y de Poisson. Problema 1 Antes de resolver el problema especifique si la solución es de tipo Binomial o Poisson y explique por qué."
      ],
      "metadata": {
        "id": "0qoFiIrpm5B9"
      }
    },
    {
      "cell_type": "code",
      "execution_count": 1,
      "metadata": {
        "colab": {
          "base_uri": "https://localhost:8080/"
        },
        "id": "t480U8ZUm1DZ",
        "outputId": "3806e830-9fc3-48ea-e393-41b6a937a622"
      },
      "outputs": [
        {
          "output_type": "stream",
          "name": "stdout",
          "text": [
            "a) Probabilidad de que ingresen exactamente 2 personas: 0.08422433748856832\n",
            "b) Probabilidad de que ingresen más de 10 personas: 0.013695268598382881\n",
            "→ No es probable que ingresen más de 10 personas (menos del 5%)\n"
          ]
        }
      ],
      "source": [
        "from scipy.stats import poisson\n",
        "\n",
        "# Media (lambda) de la distribución Poisson\n",
        "media = 5\n",
        "\n",
        "# a) Probabilidad de que ingresen exactamente 2 personas\n",
        "prob_2_personas = poisson.pmf(2, media)\n",
        "print(\"a) Probabilidad de que ingresen exactamente 2 personas:\", prob_2_personas)\n",
        "\n",
        "# b) ¿Es probable que x exceda de 10?\n",
        "# Calculamos P(X > 10) = 1 - P(X <= 10)\n",
        "prob_mas_10 = 1 - poisson.cdf(10, media)\n",
        "print(\"b) Probabilidad de que ingresen más de 10 personas:\", prob_mas_10)\n",
        "\n",
        "# Explicación simple para b)\n",
        "if prob_mas_10 < 0.05:\n",
        "    print(\"→ No es probable que ingresen más de 10 personas (menos del 5%)\")\n",
        "else:\n",
        "    print(\"→ Sí es probable que ingresen más de 10 personas (más del 5%)\")"
      ]
    },
    {
      "cell_type": "markdown",
      "source": [
        "Problema 2 Antes de resolver el problema especifique si la solución es de tipo Binomial o Poisson y explique por qué.\n",
        "\n",
        "Realizar un programa en Python que resuelva el siguiente problema:\n",
        "\n",
        "Un fabricantes de podadoras para el pasto compra motores de 1 hp y 2 ciclos, en lotes de 1,000, a un proveedor. El fabricante equipa cada una de las podadoras producidas por su planta con uno de los motores. La historia muestra que la probabilidad de que cualquier motor del proveedor resulte no satisfactorio es .001. En un embarque de 1,000 motores, Calcular a).¿Cuál es la probabilidad de que ninguno sea defectuoso? b).¿Cuál es la probabilidad de que tres sean defectuosos? c).¿Cuál es la probabilidad de que cuatro sean defectuosos? Tipo de distribución: Este problema es de tipo Binomial.\n",
        "\n",
        "¿Por qué?\n",
        "\n",
        "Hay un número fijo de intentos: 1,000 motores. Cada motor tiene solo dos posibles resultados: defectuoso o no defectuoso. La probabilidad de que un motor sea defectuoso es constante: p = 0.001. Los eventos (motores) son independientes."
      ],
      "metadata": {
        "id": "UxR9FLYxnMbn"
      }
    },
    {
      "cell_type": "code",
      "source": [
        "from scipy.stats import binom\n",
        "\n",
        "# Parámetros de la distribución binomial\n",
        "n = 1000        # Tamaño del lote\n",
        "p = 0.001       # Probabilidad de que un motor sea defectuoso\n",
        "\n",
        "# a) Probabilidad de que ninguno sea defectuoso\n",
        "prob_0 = binom.pmf(0, n, p)\n",
        "print(\"a) Probabilidad de que ninguno sea defectuoso:\", prob_0)\n",
        "\n",
        "# b) Probabilidad de que tres sean defectuosos\n",
        "prob_3 = binom.pmf(3, n, p)\n",
        "print(\"b) Probabilidad de que tres sean defectuosos:\", prob_3)\n",
        "\n",
        "# c) Probabilidad de que cuatro sean defectuosos\n",
        "prob_4 = binom.pmf(4, n, p)\n",
        "print(\"c) Probabilidad de que cuatro sean defectuosos:\", prob_4)"
      ],
      "metadata": {
        "colab": {
          "base_uri": "https://localhost:8080/"
        },
        "id": "DtLUiOW7nCBf",
        "outputId": "5324c21f-0fb9-4e71-df50-f702755d1836"
      },
      "execution_count": 2,
      "outputs": [
        {
          "output_type": "stream",
          "name": "stdout",
          "text": [
            "a) Probabilidad de que ninguno sea defectuoso: 0.3676954247709639\n",
            "b) Probabilidad de que tres sean defectuosos: 0.061282509389840666\n",
            "c) Probabilidad de que cuatro sean defectuosos: 0.015289955420838651\n"
          ]
        }
      ]
    }
  ]
}