{
  "nbformat": 4,
  "nbformat_minor": 0,
  "metadata": {
    "colab": {
      "provenance": []
    },
    "kernelspec": {
      "name": "python3",
      "display_name": "Python 3"
    },
    "language_info": {
      "name": "python"
    }
  },
  "cells": [
    {
      "cell_type": "markdown",
      "source": [
        "Probabilidad Y estadistica:Distribuciones\n",
        "Unidad 4\n",
        "\n",
        "Alumno Erik manuel vizcarra segovia\n",
        "\n",
        "Faciilitador Dr. Jose Gabriel Rodrigues Rivas\n",
        "\n",
        "Practica 2: Distribución Binomial."
      ],
      "metadata": {
        "id": "qQ7aXFaulYPy"
      }
    },
    {
      "cell_type": "code",
      "execution_count": 1,
      "metadata": {
        "id": "8TQQ-dEFlTM9"
      },
      "outputs": [],
      "source": [
        "import numpy as np\n",
        "import matplotlib.pyplot as plt\n",
        "import scipy.stats as stats"
      ]
    },
    {
      "cell_type": "code",
      "source": [
        "from scipy.stats import binom\n",
        "\n",
        "# Parámetros de la distribución binomial\n",
        "probabilidad_exito = 0.83\n",
        "num_pacientes = 16\n",
        "X = 16 # Número de exitos\n",
        "\n",
        "# Calcular la probabilidad de que ningún paciente sufran la enfermedad\n",
        "probabilidad_ninguno_enfermos = binom.pmf(X, num_pacientes, probabilidad_exito)\n",
        "\n",
        "print(\"La probabilidad de que ningún paciente sufran la enfermedad es:\" , probabilidad_ninguno_enfermos)"
      ],
      "metadata": {
        "colab": {
          "base_uri": "https://localhost:8080/"
        },
        "id": "Y215P8JPljqM",
        "outputId": "be9f1df7-7efe-4c7c-eec1-96576911766f"
      },
      "execution_count": 2,
      "outputs": [
        {
          "output_type": "stream",
          "name": "stdout",
          "text": [
            "La probabilidad de que ningún paciente sufran la enfermedad es: 0.0507282029895386\n"
          ]
        }
      ]
    },
    {
      "cell_type": "code",
      "source": [
        "from scipy.stats import binom\n",
        "\n",
        "# Parámetros de la distribución binomial\n",
        "probabilidad_exito = 0.83\n",
        "num_pacientes = 16\n",
        "X = 0\n",
        "\n",
        "# Calcular la probabilidad de que todos los pacientes sufran la enfermedad\n",
        "probabilidad_todos_enfermos = binom.pmf(X, num_pacientes, probabilidad_exito)\n",
        "\n",
        "print(\"La probabilidad de que todos los pacientes sufran la enfermedad es:\" , probabilidad_todos_enfermos)"
      ],
      "metadata": {
        "colab": {
          "base_uri": "https://localhost:8080/"
        },
        "id": "T5EdL-tIlnlB",
        "outputId": "4de93ced-5abd-4391-efca-4b39ecf1ade6"
      },
      "execution_count": 3,
      "outputs": [
        {
          "output_type": "stream",
          "name": "stdout",
          "text": [
            "La probabilidad de que todos los pacientes sufran la enfermedad es: 4.866119187566701e-13\n"
          ]
        }
      ]
    },
    {
      "cell_type": "code",
      "source": [
        "from scipy.stats import binom\n",
        "\n",
        "# Parámetros de la distrubición binomial\n",
        "n = 10\n",
        "p = 0.10\n",
        "x = 2\n",
        "\n",
        "# Calcular la probabilidad de la variable aleatoria X = 2\n",
        "probabilidad_x_2 = binom.pmf(x, n, p)\n",
        "\n",
        "print(\"La probabilidad de que la variable aleatoria X sea igual a 2 es:\" , probabilidad_x_2)"
      ],
      "metadata": {
        "colab": {
          "base_uri": "https://localhost:8080/"
        },
        "id": "Cm84ffe3lqkP",
        "outputId": "7df27177-9452-4cc9-f020-b80abebc8e0d"
      },
      "execution_count": 4,
      "outputs": [
        {
          "output_type": "stream",
          "name": "stdout",
          "text": [
            "La probabilidad de que la variable aleatoria X sea igual a 2 es: 0.19371024450000007\n"
          ]
        }
      ]
    },
    {
      "cell_type": "code",
      "source": [
        "import numpy as np\n",
        "import matplotlib.pyplot as plt\n",
        "from scipy.stats import binom\n",
        "\n",
        "# Parámetros de la distribución binomial\n",
        "n = 10\n",
        "p = 0.10\n",
        "\n",
        "# Calcular las probabilidades para cada valoe de x = 0 hasta 10\n",
        "valores_x = np.arange(0, n+1)\n",
        "probabilidades_x = [binom.pmf(x, n, p) for x in valores_x]\n",
        "\n",
        "# Imprimir la tabla de valores de x y sus probabilidades\n",
        "print(\"Valores de x\\tProbabilidades\")\n",
        "for x, probabilidad in zip(valores_x, probabilidades_x):\n",
        "    print(f\"{x}\\t\\t{probabilidad}\")"
      ],
      "metadata": {
        "colab": {
          "base_uri": "https://localhost:8080/"
        },
        "id": "rFyCrtc2lsv1",
        "outputId": "f92b39f3-b853-4152-c594-297d18519336"
      },
      "execution_count": 5,
      "outputs": [
        {
          "output_type": "stream",
          "name": "stdout",
          "text": [
            "Valores de x\tProbabilidades\n",
            "0\t\t0.34867844009999993\n",
            "1\t\t0.38742048899999965\n",
            "2\t\t0.19371024450000007\n",
            "3\t\t0.05739562799999998\n",
            "4\t\t0.01116026100000001\n",
            "5\t\t0.0014880347999999995\n",
            "6\t\t0.00013778100000000007\n",
            "7\t\t8.748000000000003e-06\n",
            "8\t\t3.6449999999999996e-07\n",
            "9\t\t8.999999999999995e-09\n",
            "10\t\t1.0000000000000006e-10\n"
          ]
        }
      ]
    },
    {
      "cell_type": "code",
      "source": [
        "## Graficar el histograma de la distribución binomial\n",
        "plt.figure(figsize=(8, 6))\n",
        "plt.bar(valores_x, probabilidades_x, color='skyblue')\n",
        "plt.xlabel('Valores de x')\n",
        "plt.ylabel('Probabilidades')\n",
        "plt.title('Distribución Binomial')\n",
        "plt.xticks(valores_x)\n",
        "plt.grid(True)\n",
        "plt.show()"
      ],
      "metadata": {
        "colab": {
          "base_uri": "https://localhost:8080/",
          "height": 564
        },
        "id": "N3hmyqkylu3g",
        "outputId": "25c8cac0-5ac7-48fa-bef4-d39b4bbda85c"
      },
      "execution_count": 6,
      "outputs": [
        {
          "output_type": "display_data",
          "data": {
            "text/plain": [
              "<Figure size 800x600 with 1 Axes>"
            ],
            "image/png": "[encoded data removed]"
          },
          "metadata": {}
        }
      ]
    },
    {
      "cell_type": "code",
      "source": [
        "\n",
        "#Graficar Hostograma\n",
        "plt.figure(figsize=(6,4))\n",
        "plt.hist(datos, bins=15, alpha=0.4, density=True, color='b')\n",
        "\n",
        "plt.title('Distribucion normal')\n",
        "plt.xlabel('Peso (kg)De los estudiantes')\n",
        "plt.grid(True)\n",
        "plt.show()"
      ],
      "metadata": {
        "colab": {
          "base_uri": "https://localhost:8080/",
          "height": 228
        },
        "id": "bmZjXB8XlwnJ",
        "outputId": "6c91f210-b468-4af0-a22f-c4166e2b13a6"
      },
      "execution_count": 7,
      "outputs": [
        {
          "output_type": "error",
          "ename": "NameError",
          "evalue": "name 'datos' is not defined",
          "traceback": [
            "\u001b[0;31m---------------------------------------------------------------------------\u001b[0m",
            "\u001b[0;31mNameError\u001b[0m                                 Traceback (most recent call last)",
            "\u001b[0;32m<ipython-input-7-7231d796cf44>\u001b[0m in \u001b[0;36m<cell line: 0>\u001b[0;34m()\u001b[0m\n\u001b[1;32m      1\u001b[0m \u001b[0;31m#Graficar Hostograma\u001b[0m\u001b[0;34m\u001b[0m\u001b[0;34m\u001b[0m\u001b[0m\n\u001b[1;32m      2\u001b[0m \u001b[0mplt\u001b[0m\u001b[0;34m.\u001b[0m\u001b[0mfigure\u001b[0m\u001b[0;34m(\u001b[0m\u001b[0mfigsize\u001b[0m\u001b[0;34m=\u001b[0m\u001b[0;34m(\u001b[0m\u001b[0;36m6\u001b[0m\u001b[0;34m,\u001b[0m\u001b[0;36m4\u001b[0m\u001b[0;34m)\u001b[0m\u001b[0;34m)\u001b[0m\u001b[0;34m\u001b[0m\u001b[0;34m\u001b[0m\u001b[0m\n\u001b[0;32m----> 3\u001b[0;31m \u001b[0mplt\u001b[0m\u001b[0;34m.\u001b[0m\u001b[0mhist\u001b[0m\u001b[0;34m(\u001b[0m\u001b[0mdatos\u001b[0m\u001b[0;34m,\u001b[0m \u001b[0mbins\u001b[0m\u001b[0;34m=\u001b[0m\u001b[0;36m15\u001b[0m\u001b[0;34m,\u001b[0m \u001b[0malpha\u001b[0m\u001b[0;34m=\u001b[0m\u001b[0;36m0.4\u001b[0m\u001b[0;34m,\u001b[0m \u001b[0mdensity\u001b[0m\u001b[0;34m=\u001b[0m\u001b[0;32mTrue\u001b[0m\u001b[0;34m,\u001b[0m \u001b[0mcolor\u001b[0m\u001b[0;34m=\u001b[0m\u001b[0;34m'b'\u001b[0m\u001b[0;34m)\u001b[0m\u001b[0;34m\u001b[0m\u001b[0;34m\u001b[0m\u001b[0m\n\u001b[0m\u001b[1;32m      4\u001b[0m \u001b[0;34m\u001b[0m\u001b[0m\n\u001b[1;32m      5\u001b[0m \u001b[0mplt\u001b[0m\u001b[0;34m.\u001b[0m\u001b[0mtitle\u001b[0m\u001b[0;34m(\u001b[0m\u001b[0;34m'Distribucion normal'\u001b[0m\u001b[0;34m)\u001b[0m\u001b[0;34m\u001b[0m\u001b[0;34m\u001b[0m\u001b[0m\n",
            "\u001b[0;31mNameError\u001b[0m: name 'datos' is not defined"
          ]
        },
        {
          "output_type": "display_data",
          "data": {
            "text/plain": [
              "<Figure size 600x400 with 0 Axes>"
            ]
          },
          "metadata": {}
        }
      ]
    }
  ]
}