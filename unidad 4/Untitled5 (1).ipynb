{
  "nbformat": 4,
  "nbformat_minor": 0,
  "metadata": {
    "colab": {
      "provenance": []
    },
    "kernelspec": {
      "name": "python3",
      "display_name": "Python 3"
    },
    "language_info": {
      "name": "python"
    }
  },
  "cells": [
    {
      "cell_type": "markdown",
      "source": [
        "Probabilidad Y estadistica:Distribuciones\n",
        "\n",
        "Unidad 4\n",
        "\n",
        "Alumno Erik manuel vizcarra segovia\n",
        "\n",
        "Faciilitador Dr. Jose Gabriel Rodrigues Rivas\n",
        "\n",
        "Practica 3: Distribución Poisson"
      ],
      "metadata": {
        "id": "auIa2OM-mWEf"
      }
    },
    {
      "cell_type": "code",
      "execution_count": 1,
      "metadata": {
        "colab": {
          "base_uri": "https://localhost:8080/"
        },
        "id": "ltBUCrQ2mVVy",
        "outputId": "d4028a8b-2420-42ae-e509-51bd62e679ca"
      },
      "outputs": [
        {
          "output_type": "stream",
          "name": "stdout",
          "text": [
            "1. Probabilidad de 0 accidentes en 1 semana: 0.1353352832366127\n",
            "2. Probabilidad de que a lo sumo haya 3 accidentes en 2 semanas: 0.19536681481316454\n"
          ]
        }
      ],
      "source": [
        "from scipy.stats import poisson\n",
        "\n",
        "# Parámetros de la distribución de Poisson\n",
        "media_accidentes = 2\n",
        "\n",
        "# Parte 1: Probabilidad de que no haya accidentes en 1 semana\n",
        "probabilidad_0_accidentes = poisson.pmf(0, media_accidentes)\n",
        "print(\"1. Probabilidad de 0 accidentes en 1 semana:\", probabilidad_0_accidentes)\n",
        "\n",
        "# Parte 2: Probabilidad de que a lo sumo haya tres accidentes en 2 semanas\n",
        "# Convertimos la medida a una media para 2 semanas\n",
        "media_2_semanas = media_accidentes * 2\n",
        "\n",
        "# Calculamos la probabilidad acumulada hasta 3 accidentes en 2 semanas\n",
        "probabilidad_3_o_menos_accidentes = poisson.pmf(3, media_2_semanas)\n",
        "print(\"2. Probabilidad de que a lo sumo haya 3 accidentes en 2 semanas:\", probabilidad_3_o_menos_accidentes)"
      ]
    },
    {
      "cell_type": "code",
      "source": [
        "from scipy.stats import poisson\n",
        "\n",
        "# Parámetros de la distribución de Poisson\n",
        "media_muertes = 5000 * 0.001 # 5000 hombres con una probabilidad de muerte de 0.001\n",
        "\n",
        "# Número de reclamaciones\n",
        "x= 4\n",
        "\n",
        "# Calcular la probabilidad de que la compañia tenga que pagar 4 reclamaciones en un año determinado\n",
        "probabilidad_4_reclamaciones = poisson.pmf(x, media_muertes)\n",
        "\n",
        "print(\"La probabilidad de que la compañía pague\", x, \"reclamaciones en un año determinado es:\", probabilidad_4_reclamaciones)\n"
      ],
      "metadata": {
        "id": "u9M80M1umsR9",
        "outputId": "462ecda3-e19e-447c-d6af-e56d72e33cba",
        "colab": {
          "base_uri": "https://localhost:8080/"
        }
      },
      "execution_count": 2,
      "outputs": [
        {
          "output_type": "stream",
          "name": "stdout",
          "text": [
            "La probabilidad de que la compañía pague 4 reclamaciones en un año determinado es: 0.17546736976785063\n"
          ]
        }
      ]
    }
  ]
}