{
  "nbformat": 4,
  "nbformat_minor": 0,
  "metadata": {
    "colab": {
      "provenance": [],
      "authorship_tag": "ABX9TyOlHl5nPkJFoMMy0GLbckoG",
      "include_colab_link": true
    },
    "kernelspec": {
      "name": "python3",
      "display_name": "Python 3"
    },
    "language_info": {
      "name": "python"
    }
  },
  "cells": [
    {
      "cell_type": "markdown",
      "metadata": {
        "id": "view-in-github",
        "colab_type": "text"
      },
      "source": [
        "<a href=\"https://colab.research.google.com/github/kire498/PROBABILIDAD-Y-ESTADISTICA/blob/main/Untitled6.ipynb\" target=\"_parent\"><img src=\"https://colab.research.google.com/assets/colab-badge.svg\" alt=\"Open In Colab\"/></a>"
      ]
    },
    {
      "cell_type": "markdown",
      "source": [
        "##**probabilidad y estadistica**\n",
        "\n",
        "**Unidad 2**\n",
        "\n",
        "**Práctica 2**\n",
        "\n",
        "Grupo: 2Y\n",
        "\n",
        "Alumno:Erik Manuel Vizcarra Segovia\n",
        "\n",
        "Facilitador: Dr. José Gabriel Rodríguez Rivas\n",
        "\n",
        "Ejemplo 1"
      ],
      "metadata": {
        "id": "inmyT60lec4w"
      }
    },
    {
      "cell_type": "code",
      "execution_count": 1,
      "metadata": {
        "id": "-eYKVztucL4Y"
      },
      "outputs": [],
      "source": [
        "import math as mt # Para utilizar factorial\n",
        "from itertools import permutations\n",
        "from itertools import product\n",
        "import numpy as np"
      ]
    },
    {
      "cell_type": "code",
      "source": [
        "mt.factorial(7)"
      ],
      "metadata": {
        "colab": {
          "base_uri": "https://localhost:8080/"
        },
        "id": "v9LYNnyMe9v_",
        "outputId": "9667a90f-d460-48de-8014-3fe0c2f217f0"
      },
      "execution_count": 2,
      "outputs": [
        {
          "output_type": "execute_result",
          "data": {
            "text/plain": [
              "5040"
            ]
          },
          "metadata": {},
          "execution_count": 2
        }
      ]
    },
    {
      "cell_type": "code",
      "source": [
        "mt.factorial(4)"
      ],
      "metadata": {
        "colab": {
          "base_uri": "https://localhost:8080/"
        },
        "id": "eNaqiLBGfFdY",
        "outputId": "4687e33e-8467-4aec-f16e-d5298296c91d"
      },
      "execution_count": 3,
      "outputs": [
        {
          "output_type": "execute_result",
          "data": {
            "text/plain": [
              "24"
            ]
          },
          "metadata": {},
          "execution_count": 3
        }
      ]
    },
    {
      "cell_type": "code",
      "source": [
        "5040 / 24"
      ],
      "metadata": {
        "colab": {
          "base_uri": "https://localhost:8080/"
        },
        "id": "Hb2OU2b_fJYg",
        "outputId": "49c66280-5ac7-4785-be78-8b3a4e68e6b2"
      },
      "execution_count": 4,
      "outputs": [
        {
          "output_type": "execute_result",
          "data": {
            "text/plain": [
              "210.0"
            ]
          },
          "metadata": {},
          "execution_count": 4
        }
      ]
    },
    {
      "cell_type": "code",
      "source": [
        "nombres = [\"a\", \"b\", \"c\", \"d\", \"e\", \"f\", \"g\"]\n",
        "n = len(nombres)\n",
        "r = 3 # ¿Cómo agrupar?\n",
        "\n",
        "pr = mt.factorial(n) / mt.factorial(n-r)\n",
        "print(\"Existen \", pr, \" posibles permutaciones sin repetición del total de \", n,\n",
        "      \" nombres \", \" en grupos de \", r, \" en \", r)\n",
        "print(\"Aquí las permutaciones\")\n",
        "permutacionesNombres = list(permutations(nombres, r))\n",
        "\n",
        "#Imprime las permutaciones\n",
        "for permutacion in permutacionesNombres:\n",
        "    print(permutacion)"
      ],
      "metadata": {
        "colab": {
          "base_uri": "https://localhost:8080/"
        },
        "id": "NlLTNOVIfMu-",
        "outputId": "1909e4b9-09ce-4408-ae15-1ae0db36d5d8"
      },
      "execution_count": 5,
      "outputs": [
        {
          "output_type": "stream",
          "name": "stdout",
          "text": [
            "Existen  210.0  posibles permutaciones sin repetición del total de  7  nombres   en grupos de  3  en  3\n",
            "Aquí las permutaciones\n",
            "('a', 'b', 'c')\n",
            "('a', 'b', 'd')\n",
            "('a', 'b', 'e')\n",
            "('a', 'b', 'f')\n",
            "('a', 'b', 'g')\n",
            "('a', 'c', 'b')\n",
            "('a', 'c', 'd')\n",
            "('a', 'c', 'e')\n",
            "('a', 'c', 'f')\n",
            "('a', 'c', 'g')\n",
            "('a', 'd', 'b')\n",
            "('a', 'd', 'c')\n",
            "('a', 'd', 'e')\n",
            "('a', 'd', 'f')\n",
            "('a', 'd', 'g')\n",
            "('a', 'e', 'b')\n",
            "('a', 'e', 'c')\n",
            "('a', 'e', 'd')\n",
            "('a', 'e', 'f')\n",
            "('a', 'e', 'g')\n",
            "('a', 'f', 'b')\n",
            "('a', 'f', 'c')\n",
            "('a', 'f', 'd')\n",
            "('a', 'f', 'e')\n",
            "('a', 'f', 'g')\n",
            "('a', 'g', 'b')\n",
            "('a', 'g', 'c')\n",
            "('a', 'g', 'd')\n",
            "('a', 'g', 'e')\n",
            "('a', 'g', 'f')\n",
            "('b', 'a', 'c')\n",
            "('b', 'a', 'd')\n",
            "('b', 'a', 'e')\n",
            "('b', 'a', 'f')\n",
            "('b', 'a', 'g')\n",
            "('b', 'c', 'a')\n",
            "('b', 'c', 'd')\n",
            "('b', 'c', 'e')\n",
            "('b', 'c', 'f')\n",
            "('b', 'c', 'g')\n",
            "('b', 'd', 'a')\n",
            "('b', 'd', 'c')\n",
            "('b', 'd', 'e')\n",
            "('b', 'd', 'f')\n",
            "('b', 'd', 'g')\n",
            "('b', 'e', 'a')\n",
            "('b', 'e', 'c')\n",
            "('b', 'e', 'd')\n",
            "('b', 'e', 'f')\n",
            "('b', 'e', 'g')\n",
            "('b', 'f', 'a')\n",
            "('b', 'f', 'c')\n",
            "('b', 'f', 'd')\n",
            "('b', 'f', 'e')\n",
            "('b', 'f', 'g')\n",
            "('b', 'g', 'a')\n",
            "('b', 'g', 'c')\n",
            "('b', 'g', 'd')\n",
            "('b', 'g', 'e')\n",
            "('b', 'g', 'f')\n",
            "('c', 'a', 'b')\n",
            "('c', 'a', 'd')\n",
            "('c', 'a', 'e')\n",
            "('c', 'a', 'f')\n",
            "('c', 'a', 'g')\n",
            "('c', 'b', 'a')\n",
            "('c', 'b', 'd')\n",
            "('c', 'b', 'e')\n",
            "('c', 'b', 'f')\n",
            "('c', 'b', 'g')\n",
            "('c', 'd', 'a')\n",
            "('c', 'd', 'b')\n",
            "('c', 'd', 'e')\n",
            "('c', 'd', 'f')\n",
            "('c', 'd', 'g')\n",
            "('c', 'e', 'a')\n",
            "('c', 'e', 'b')\n",
            "('c', 'e', 'd')\n",
            "('c', 'e', 'f')\n",
            "('c', 'e', 'g')\n",
            "('c', 'f', 'a')\n",
            "('c', 'f', 'b')\n",
            "('c', 'f', 'd')\n",
            "('c', 'f', 'e')\n",
            "('c', 'f', 'g')\n",
            "('c', 'g', 'a')\n",
            "('c', 'g', 'b')\n",
            "('c', 'g', 'd')\n",
            "('c', 'g', 'e')\n",
            "('c', 'g', 'f')\n",
            "('d', 'a', 'b')\n",
            "('d', 'a', 'c')\n",
            "('d', 'a', 'e')\n",
            "('d', 'a', 'f')\n",
            "('d', 'a', 'g')\n",
            "('d', 'b', 'a')\n",
            "('d', 'b', 'c')\n",
            "('d', 'b', 'e')\n",
            "('d', 'b', 'f')\n",
            "('d', 'b', 'g')\n",
            "('d', 'c', 'a')\n",
            "('d', 'c', 'b')\n",
            "('d', 'c', 'e')\n",
            "('d', 'c', 'f')\n",
            "('d', 'c', 'g')\n",
            "('d', 'e', 'a')\n",
            "('d', 'e', 'b')\n",
            "('d', 'e', 'c')\n",
            "('d', 'e', 'f')\n",
            "('d', 'e', 'g')\n",
            "('d', 'f', 'a')\n",
            "('d', 'f', 'b')\n",
            "('d', 'f', 'c')\n",
            "('d', 'f', 'e')\n",
            "('d', 'f', 'g')\n",
            "('d', 'g', 'a')\n",
            "('d', 'g', 'b')\n",
            "('d', 'g', 'c')\n",
            "('d', 'g', 'e')\n",
            "('d', 'g', 'f')\n",
            "('e', 'a', 'b')\n",
            "('e', 'a', 'c')\n",
            "('e', 'a', 'd')\n",
            "('e', 'a', 'f')\n",
            "('e', 'a', 'g')\n",
            "('e', 'b', 'a')\n",
            "('e', 'b', 'c')\n",
            "('e', 'b', 'd')\n",
            "('e', 'b', 'f')\n",
            "('e', 'b', 'g')\n",
            "('e', 'c', 'a')\n",
            "('e', 'c', 'b')\n",
            "('e', 'c', 'd')\n",
            "('e', 'c', 'f')\n",
            "('e', 'c', 'g')\n",
            "('e', 'd', 'a')\n",
            "('e', 'd', 'b')\n",
            "('e', 'd', 'c')\n",
            "('e', 'd', 'f')\n",
            "('e', 'd', 'g')\n",
            "('e', 'f', 'a')\n",
            "('e', 'f', 'b')\n",
            "('e', 'f', 'c')\n",
            "('e', 'f', 'd')\n",
            "('e', 'f', 'g')\n",
            "('e', 'g', 'a')\n",
            "('e', 'g', 'b')\n",
            "('e', 'g', 'c')\n",
            "('e', 'g', 'd')\n",
            "('e', 'g', 'f')\n",
            "('f', 'a', 'b')\n",
            "('f', 'a', 'c')\n",
            "('f', 'a', 'd')\n",
            "('f', 'a', 'e')\n",
            "('f', 'a', 'g')\n",
            "('f', 'b', 'a')\n",
            "('f', 'b', 'c')\n",
            "('f', 'b', 'd')\n",
            "('f', 'b', 'e')\n",
            "('f', 'b', 'g')\n",
            "('f', 'c', 'a')\n",
            "('f', 'c', 'b')\n",
            "('f', 'c', 'd')\n",
            "('f', 'c', 'e')\n",
            "('f', 'c', 'g')\n",
            "('f', 'd', 'a')\n",
            "('f', 'd', 'b')\n",
            "('f', 'd', 'c')\n",
            "('f', 'd', 'e')\n",
            "('f', 'd', 'g')\n",
            "('f', 'e', 'a')\n",
            "('f', 'e', 'b')\n",
            "('f', 'e', 'c')\n",
            "('f', 'e', 'd')\n",
            "('f', 'e', 'g')\n",
            "('f', 'g', 'a')\n",
            "('f', 'g', 'b')\n",
            "('f', 'g', 'c')\n",
            "('f', 'g', 'd')\n",
            "('f', 'g', 'e')\n",
            "('g', 'a', 'b')\n",
            "('g', 'a', 'c')\n",
            "('g', 'a', 'd')\n",
            "('g', 'a', 'e')\n",
            "('g', 'a', 'f')\n",
            "('g', 'b', 'a')\n",
            "('g', 'b', 'c')\n",
            "('g', 'b', 'd')\n",
            "('g', 'b', 'e')\n",
            "('g', 'b', 'f')\n",
            "('g', 'c', 'a')\n",
            "('g', 'c', 'b')\n",
            "('g', 'c', 'd')\n",
            "('g', 'c', 'e')\n",
            "('g', 'c', 'f')\n",
            "('g', 'd', 'a')\n",
            "('g', 'd', 'b')\n",
            "('g', 'd', 'c')\n",
            "('g', 'd', 'e')\n",
            "('g', 'd', 'f')\n",
            "('g', 'e', 'a')\n",
            "('g', 'e', 'b')\n",
            "('g', 'e', 'c')\n",
            "('g', 'e', 'd')\n",
            "('g', 'e', 'f')\n",
            "('g', 'f', 'a')\n",
            "('g', 'f', 'b')\n",
            "('g', 'f', 'c')\n",
            "('g', 'f', 'd')\n",
            "('g', 'f', 'e')\n"
          ]
        }
      ]
    }
  ]
}